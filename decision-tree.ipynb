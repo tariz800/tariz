{
 "cells": [
  {
   "cell_type": "code",
   "execution_count": 1,
   "id": "5cc81dac",
   "metadata": {
    "_cell_guid": "b1076dfc-b9ad-4769-8c92-a6c4dae69d19",
    "_uuid": "8f2839f25d086af736a60e9eeb907d3b93b6e0e5",
    "execution": {
     "iopub.execute_input": "2022-09-27T09:06:26.322776Z",
     "iopub.status.busy": "2022-09-27T09:06:26.322278Z",
     "iopub.status.idle": "2022-09-27T09:06:26.345250Z",
     "shell.execute_reply": "2022-09-27T09:06:26.343813Z"
    },
    "papermill": {
     "duration": 0.036839,
     "end_time": "2022-09-27T09:06:26.347935",
     "exception": false,
     "start_time": "2022-09-27T09:06:26.311096",
     "status": "completed"
    },
    "tags": []
   },
   "outputs": [
    {
     "name": "stdout",
     "output_type": "stream",
     "text": [
      "/kaggle/input/hr-salary/HR_DT.csv\n"
     ]
    }
   ],
   "source": [
    "# This Python 3 environment comes with many helpful analytics libraries installed\n",
    "# It is defined by the kaggle/python Docker image: https://github.com/kaggle/docker-python\n",
    "# For example, here's several helpful packages to load\n",
    "\n",
    "import numpy as np # linear algebra\n",
    "import pandas as pd # data processing, CSV file I/O (e.g. pd.read_csv)\n",
    "\n",
    "# Input data files are available in the read-only \"../input/\" directory\n",
    "# For example, running this (by clicking run or pressing Shift+Enter) will list all files under the input directory\n",
    "\n",
    "import os\n",
    "for dirname, _, filenames in os.walk('/kaggle/input'):\n",
    "    for filename in filenames:\n",
    "        print(os.path.join(dirname, filename))\n",
    "\n",
    "# You can write up to 20GB to the current directory (/kaggle/working/) that gets preserved as output when you create a version using \"Save & Run All\" \n",
    "# You can also write temporary files to /kaggle/temp/, but they won't be saved outside of the current session"
   ]
  },
  {
   "cell_type": "markdown",
   "id": "394ea5a8",
   "metadata": {
    "papermill": {
     "duration": 0.007536,
     "end_time": "2022-09-27T09:06:26.363573",
     "exception": false,
     "start_time": "2022-09-27T09:06:26.356037",
     "status": "completed"
    },
    "tags": []
   },
   "source": [
    "# **Problem Statement**\n",
    "**In the recruitment domain, HR faces the challenge of predicting if the candidate is faking their salary or not. For example, a candidate claims to have 5 years of experience and earns 70,000 per month working as a regional manager. The candidate expects more money than his previous CTC. We need a way to verify their claims (is 70,000 a month working as a regional manager with an experience of 5 years a genuine claim or does he/she make less than that**"
   ]
  },
  {
   "cell_type": "code",
   "execution_count": 2,
   "id": "78f575a0",
   "metadata": {
    "execution": {
     "iopub.execute_input": "2022-09-27T09:06:26.382397Z",
     "iopub.status.busy": "2022-09-27T09:06:26.381944Z",
     "iopub.status.idle": "2022-09-27T09:06:27.963560Z",
     "shell.execute_reply": "2022-09-27T09:06:27.962468Z"
    },
    "papermill": {
     "duration": 1.594544,
     "end_time": "2022-09-27T09:06:27.966442",
     "exception": false,
     "start_time": "2022-09-27T09:06:26.371898",
     "status": "completed"
    },
    "tags": []
   },
   "outputs": [],
   "source": [
    "#importing library\n",
    "import pandas as pd\n",
    "import numpy as np\n",
    "from sklearn.preprocessing import LabelEncoder\n",
    "from sklearn import tree\n",
    "from sklearn.model_selection import train_test_split\n",
    "from sklearn.metrics import mean_squared_error, r2_score\n",
    "import matplotlib.pyplot as plt\n",
    "import seaborn as sns\n",
    "sns.set()"
   ]
  },
  {
   "cell_type": "code",
   "execution_count": 3,
   "id": "abc55de4",
   "metadata": {
    "execution": {
     "iopub.execute_input": "2022-09-27T09:06:27.984445Z",
     "iopub.status.busy": "2022-09-27T09:06:27.983924Z",
     "iopub.status.idle": "2022-09-27T09:06:28.000866Z",
     "shell.execute_reply": "2022-09-27T09:06:27.999248Z"
    },
    "papermill": {
     "duration": 0.029667,
     "end_time": "2022-09-27T09:06:28.004033",
     "exception": false,
     "start_time": "2022-09-27T09:06:27.974366",
     "status": "completed"
    },
    "tags": []
   },
   "outputs": [],
   "source": [
    "hr = pd.read_csv(\"../input/hr-salary/HR_DT.csv\")"
   ]
  },
  {
   "cell_type": "code",
   "execution_count": 4,
   "id": "4893f394",
   "metadata": {
    "execution": {
     "iopub.execute_input": "2022-09-27T09:06:28.022596Z",
     "iopub.status.busy": "2022-09-27T09:06:28.022132Z",
     "iopub.status.idle": "2022-09-27T09:06:28.045007Z",
     "shell.execute_reply": "2022-09-27T09:06:28.043954Z"
    },
    "papermill": {
     "duration": 0.035039,
     "end_time": "2022-09-27T09:06:28.047453",
     "exception": false,
     "start_time": "2022-09-27T09:06:28.012414",
     "status": "completed"
    },
    "tags": []
   },
   "outputs": [
    {
     "data": {
      "text/html": [
       "<div>\n",
       "<style scoped>\n",
       "    .dataframe tbody tr th:only-of-type {\n",
       "        vertical-align: middle;\n",
       "    }\n",
       "\n",
       "    .dataframe tbody tr th {\n",
       "        vertical-align: top;\n",
       "    }\n",
       "\n",
       "    .dataframe thead th {\n",
       "        text-align: right;\n",
       "    }\n",
       "</style>\n",
       "<table border=\"1\" class=\"dataframe\">\n",
       "  <thead>\n",
       "    <tr style=\"text-align: right;\">\n",
       "      <th></th>\n",
       "      <th>Position of the employee</th>\n",
       "      <th>no of Years of Experience of employee</th>\n",
       "      <th>monthly income of employee</th>\n",
       "    </tr>\n",
       "  </thead>\n",
       "  <tbody>\n",
       "    <tr>\n",
       "      <th>0</th>\n",
       "      <td>Business Analyst</td>\n",
       "      <td>1.1</td>\n",
       "      <td>39343</td>\n",
       "    </tr>\n",
       "    <tr>\n",
       "      <th>1</th>\n",
       "      <td>Junior Consultant</td>\n",
       "      <td>1.3</td>\n",
       "      <td>46205</td>\n",
       "    </tr>\n",
       "    <tr>\n",
       "      <th>2</th>\n",
       "      <td>Senior Consultant</td>\n",
       "      <td>1.5</td>\n",
       "      <td>37731</td>\n",
       "    </tr>\n",
       "    <tr>\n",
       "      <th>3</th>\n",
       "      <td>Manager</td>\n",
       "      <td>2.0</td>\n",
       "      <td>43525</td>\n",
       "    </tr>\n",
       "    <tr>\n",
       "      <th>4</th>\n",
       "      <td>Country Manager</td>\n",
       "      <td>2.2</td>\n",
       "      <td>39891</td>\n",
       "    </tr>\n",
       "  </tbody>\n",
       "</table>\n",
       "</div>"
      ],
      "text/plain": [
       "  Position of the employee  no of Years of Experience of employee  \\\n",
       "0         Business Analyst                                    1.1   \n",
       "1        Junior Consultant                                    1.3   \n",
       "2        Senior Consultant                                    1.5   \n",
       "3                  Manager                                    2.0   \n",
       "4          Country Manager                                    2.2   \n",
       "\n",
       "    monthly income of employee  \n",
       "0                        39343  \n",
       "1                        46205  \n",
       "2                        37731  \n",
       "3                        43525  \n",
       "4                        39891  "
      ]
     },
     "execution_count": 4,
     "metadata": {},
     "output_type": "execute_result"
    }
   ],
   "source": [
    "hr.head()"
   ]
  },
  {
   "cell_type": "code",
   "execution_count": 5,
   "id": "4462a341",
   "metadata": {
    "execution": {
     "iopub.execute_input": "2022-09-27T09:06:28.067443Z",
     "iopub.status.busy": "2022-09-27T09:06:28.066936Z",
     "iopub.status.idle": "2022-09-27T09:06:28.098685Z",
     "shell.execute_reply": "2022-09-27T09:06:28.097426Z"
    },
    "papermill": {
     "duration": 0.043778,
     "end_time": "2022-09-27T09:06:28.101454",
     "exception": false,
     "start_time": "2022-09-27T09:06:28.057676",
     "status": "completed"
    },
    "tags": []
   },
   "outputs": [
    {
     "data": {
      "text/html": [
       "<div>\n",
       "<style scoped>\n",
       "    .dataframe tbody tr th:only-of-type {\n",
       "        vertical-align: middle;\n",
       "    }\n",
       "\n",
       "    .dataframe tbody tr th {\n",
       "        vertical-align: top;\n",
       "    }\n",
       "\n",
       "    .dataframe thead th {\n",
       "        text-align: right;\n",
       "    }\n",
       "</style>\n",
       "<table border=\"1\" class=\"dataframe\">\n",
       "  <thead>\n",
       "    <tr style=\"text-align: right;\">\n",
       "      <th></th>\n",
       "      <th>no of Years of Experience of employee</th>\n",
       "      <th>monthly income of employee</th>\n",
       "    </tr>\n",
       "  </thead>\n",
       "  <tbody>\n",
       "    <tr>\n",
       "      <th>count</th>\n",
       "      <td>196.000000</td>\n",
       "      <td>196.000000</td>\n",
       "    </tr>\n",
       "    <tr>\n",
       "      <th>mean</th>\n",
       "      <td>5.112245</td>\n",
       "      <td>74194.923469</td>\n",
       "    </tr>\n",
       "    <tr>\n",
       "      <th>std</th>\n",
       "      <td>2.783993</td>\n",
       "      <td>26731.578387</td>\n",
       "    </tr>\n",
       "    <tr>\n",
       "      <th>min</th>\n",
       "      <td>1.000000</td>\n",
       "      <td>37731.000000</td>\n",
       "    </tr>\n",
       "    <tr>\n",
       "      <th>25%</th>\n",
       "      <td>3.000000</td>\n",
       "      <td>56430.000000</td>\n",
       "    </tr>\n",
       "    <tr>\n",
       "      <th>50%</th>\n",
       "      <td>4.100000</td>\n",
       "      <td>63831.500000</td>\n",
       "    </tr>\n",
       "    <tr>\n",
       "      <th>75%</th>\n",
       "      <td>7.100000</td>\n",
       "      <td>98273.000000</td>\n",
       "    </tr>\n",
       "    <tr>\n",
       "      <th>max</th>\n",
       "      <td>10.500000</td>\n",
       "      <td>122391.000000</td>\n",
       "    </tr>\n",
       "  </tbody>\n",
       "</table>\n",
       "</div>"
      ],
      "text/plain": [
       "       no of Years of Experience of employee   monthly income of employee\n",
       "count                             196.000000                   196.000000\n",
       "mean                                5.112245                 74194.923469\n",
       "std                                 2.783993                 26731.578387\n",
       "min                                 1.000000                 37731.000000\n",
       "25%                                 3.000000                 56430.000000\n",
       "50%                                 4.100000                 63831.500000\n",
       "75%                                 7.100000                 98273.000000\n",
       "max                                10.500000                122391.000000"
      ]
     },
     "execution_count": 5,
     "metadata": {},
     "output_type": "execute_result"
    }
   ],
   "source": [
    "hr.describe()"
   ]
  },
  {
   "cell_type": "code",
   "execution_count": 6,
   "id": "89f4a9f4",
   "metadata": {
    "execution": {
     "iopub.execute_input": "2022-09-27T09:06:28.120763Z",
     "iopub.status.busy": "2022-09-27T09:06:28.120275Z",
     "iopub.status.idle": "2022-09-27T09:06:28.127577Z",
     "shell.execute_reply": "2022-09-27T09:06:28.126233Z"
    },
    "papermill": {
     "duration": 0.020378,
     "end_time": "2022-09-27T09:06:28.130146",
     "exception": false,
     "start_time": "2022-09-27T09:06:28.109768",
     "status": "completed"
    },
    "tags": []
   },
   "outputs": [
    {
     "data": {
      "text/plain": [
       "(196, 3)"
      ]
     },
     "execution_count": 6,
     "metadata": {},
     "output_type": "execute_result"
    }
   ],
   "source": [
    "hr.shape"
   ]
  },
  {
   "cell_type": "code",
   "execution_count": 7,
   "id": "ee82a643",
   "metadata": {
    "execution": {
     "iopub.execute_input": "2022-09-27T09:06:28.149308Z",
     "iopub.status.busy": "2022-09-27T09:06:28.148858Z",
     "iopub.status.idle": "2022-09-27T09:06:28.158962Z",
     "shell.execute_reply": "2022-09-27T09:06:28.157596Z"
    },
    "papermill": {
     "duration": 0.02257,
     "end_time": "2022-09-27T09:06:28.161409",
     "exception": false,
     "start_time": "2022-09-27T09:06:28.138839",
     "status": "completed"
    },
    "tags": []
   },
   "outputs": [
    {
     "data": {
      "text/plain": [
       "Position of the employee                 0\n",
       "no of Years of Experience of employee    0\n",
       " monthly income of employee              0\n",
       "dtype: int64"
      ]
     },
     "execution_count": 7,
     "metadata": {},
     "output_type": "execute_result"
    }
   ],
   "source": [
    "hr.isna().sum()"
   ]
  },
  {
   "cell_type": "code",
   "execution_count": 8,
   "id": "85314737",
   "metadata": {
    "execution": {
     "iopub.execute_input": "2022-09-27T09:06:28.181081Z",
     "iopub.status.busy": "2022-09-27T09:06:28.180000Z",
     "iopub.status.idle": "2022-09-27T09:06:28.188445Z",
     "shell.execute_reply": "2022-09-27T09:06:28.187244Z"
    },
    "papermill": {
     "duration": 0.021091,
     "end_time": "2022-09-27T09:06:28.190974",
     "exception": false,
     "start_time": "2022-09-27T09:06:28.169883",
     "status": "completed"
    },
    "tags": []
   },
   "outputs": [
    {
     "data": {
      "text/plain": [
       "Index(['Position of the employee', 'no of Years of Experience of employee',\n",
       "       ' monthly income of employee'],\n",
       "      dtype='object')"
      ]
     },
     "execution_count": 8,
     "metadata": {},
     "output_type": "execute_result"
    }
   ],
   "source": [
    "hr.columns"
   ]
  },
  {
   "cell_type": "code",
   "execution_count": 9,
   "id": "5c03404e",
   "metadata": {
    "execution": {
     "iopub.execute_input": "2022-09-27T09:06:28.210060Z",
     "iopub.status.busy": "2022-09-27T09:06:28.209636Z",
     "iopub.status.idle": "2022-09-27T09:06:28.518835Z",
     "shell.execute_reply": "2022-09-27T09:06:28.517382Z"
    },
    "papermill": {
     "duration": 0.322096,
     "end_time": "2022-09-27T09:06:28.521700",
     "exception": false,
     "start_time": "2022-09-27T09:06:28.199604",
     "status": "completed"
    },
    "tags": []
   },
   "outputs": [
    {
     "data": {
      "text/plain": [
       "<matplotlib.collections.PathCollection at 0x7f4aa869a9d0>"
      ]
     },
     "execution_count": 9,
     "metadata": {},
     "output_type": "execute_result"
    },
    {
     "data": {
      "image/png": "[encoded data removed]",
      "text/plain": [
       "<Figure size 432x288 with 1 Axes>"
      ]
     },
     "metadata": {},
     "output_type": "display_data"
    }
   ],
   "source": [
    "plt.scatter(x='no of Years of Experience of employee',y=' monthly income of employee',data=hr)"
   ]
  },
  {
   "cell_type": "code",
   "execution_count": 10,
   "id": "87d833ba",
   "metadata": {
    "execution": {
     "iopub.execute_input": "2022-09-27T09:06:28.542018Z",
     "iopub.status.busy": "2022-09-27T09:06:28.541625Z",
     "iopub.status.idle": "2022-09-27T09:06:28.716802Z",
     "shell.execute_reply": "2022-09-27T09:06:28.715743Z"
    },
    "papermill": {
     "duration": 0.188049,
     "end_time": "2022-09-27T09:06:28.719364",
     "exception": false,
     "start_time": "2022-09-27T09:06:28.531315",
     "status": "completed"
    },
    "tags": []
   },
   "outputs": [
    {
     "data": {
      "text/plain": [
       "{'whiskers': [<matplotlib.lines.Line2D at 0x7f4aa64c1050>,\n",
       "  <matplotlib.lines.Line2D at 0x7f4aa64c1350>],\n",
       " 'caps': [<matplotlib.lines.Line2D at 0x7f4aa64c1690>,\n",
       "  <matplotlib.lines.Line2D at 0x7f4aa64c19d0>],\n",
       " 'boxes': [<matplotlib.lines.Line2D at 0x7f4aa64b5d10>],\n",
       " 'medians': [<matplotlib.lines.Line2D at 0x7f4aa64c1d50>],\n",
       " 'fliers': [<matplotlib.lines.Line2D at 0x7f4aa64d10d0>],\n",
       " 'means': []}"
      ]
     },
     "execution_count": 10,
     "metadata": {},
     "output_type": "execute_result"
    },
    {
     "data": {
      "image/png": "[encoded data removed]",
      "text/plain": [
       "<Figure size 432x288 with 1 Axes>"
      ]
     },
     "metadata": {},
     "output_type": "display_data"
    }
   ],
   "source": [
    "plt.boxplot(x='no of Years of Experience of employee',data= hr)"
   ]
  },
  {
   "cell_type": "code",
   "execution_count": 11,
   "id": "c8f64a3b",
   "metadata": {
    "execution": {
     "iopub.execute_input": "2022-09-27T09:06:28.740065Z",
     "iopub.status.busy": "2022-09-27T09:06:28.739658Z",
     "iopub.status.idle": "2022-09-27T09:06:28.915240Z",
     "shell.execute_reply": "2022-09-27T09:06:28.914360Z"
    },
    "papermill": {
     "duration": 0.188966,
     "end_time": "2022-09-27T09:06:28.917866",
     "exception": false,
     "start_time": "2022-09-27T09:06:28.728900",
     "status": "completed"
    },
    "tags": []
   },
   "outputs": [
    {
     "data": {
      "text/plain": [
       "{'whiskers': [<matplotlib.lines.Line2D at 0x7f4aa643e750>,\n",
       "  <matplotlib.lines.Line2D at 0x7f4aa643ea90>],\n",
       " 'caps': [<matplotlib.lines.Line2D at 0x7f4aa643ec90>,\n",
       "  <matplotlib.lines.Line2D at 0x7f4aa6448090>],\n",
       " 'boxes': [<matplotlib.lines.Line2D at 0x7f4aa643e490>],\n",
       " 'medians': [<matplotlib.lines.Line2D at 0x7f4aa6448410>],\n",
       " 'fliers': [<matplotlib.lines.Line2D at 0x7f4aa6448750>],\n",
       " 'means': []}"
      ]
     },
     "execution_count": 11,
     "metadata": {},
     "output_type": "execute_result"
    },
    {
     "data": {
      "image/png": "[encoded data removed]",
      "text/plain": [
       "<Figure size 432x288 with 1 Axes>"
      ]
     },
     "metadata": {},
     "output_type": "display_data"
    }
   ],
   "source": [
    "plt.boxplot(x=' monthly income of employee',data= hr)"
   ]
  },
  {
   "cell_type": "code",
   "execution_count": 12,
   "id": "a8cad598",
   "metadata": {
    "execution": {
     "iopub.execute_input": "2022-09-27T09:06:28.938618Z",
     "iopub.status.busy": "2022-09-27T09:06:28.938231Z",
     "iopub.status.idle": "2022-09-27T09:06:28.943972Z",
     "shell.execute_reply": "2022-09-27T09:06:28.943072Z"
    },
    "papermill": {
     "duration": 0.018601,
     "end_time": "2022-09-27T09:06:28.946085",
     "exception": false,
     "start_time": "2022-09-27T09:06:28.927484",
     "status": "completed"
    },
    "tags": []
   },
   "outputs": [],
   "source": [
    "# n-1 dummy variables will be created for n categories\n",
    "\n",
    "lb = LabelEncoder()\n",
    " \n",
    "hr['Position of the employee'] = lb.fit_transform(hr['Position of the employee'])\n"
   ]
  },
  {
   "cell_type": "code",
   "execution_count": 13,
   "id": "e51a32fb",
   "metadata": {
    "execution": {
     "iopub.execute_input": "2022-09-27T09:06:28.966795Z",
     "iopub.status.busy": "2022-09-27T09:06:28.966405Z",
     "iopub.status.idle": "2022-09-27T09:06:28.973947Z",
     "shell.execute_reply": "2022-09-27T09:06:28.972838Z"
    },
    "papermill": {
     "duration": 0.020496,
     "end_time": "2022-09-27T09:06:28.976146",
     "exception": false,
     "start_time": "2022-09-27T09:06:28.955650",
     "status": "completed"
    },
    "tags": []
   },
   "outputs": [
    {
     "data": {
      "text/plain": [
       "pandas.core.frame.DataFrame"
      ]
     },
     "execution_count": 13,
     "metadata": {},
     "output_type": "execute_result"
    }
   ],
   "source": [
    "# Input and Output Split\n",
    "predictors = hr.iloc[:, :2]\n",
    "type(predictors)\n",
    "\n",
    "target = hr.iloc[:,2:]\n",
    "type(target)\n"
   ]
  },
  {
   "cell_type": "code",
   "execution_count": 14,
   "id": "dae38995",
   "metadata": {
    "execution": {
     "iopub.execute_input": "2022-09-27T09:06:28.997066Z",
     "iopub.status.busy": "2022-09-27T09:06:28.996668Z",
     "iopub.status.idle": "2022-09-27T09:06:29.004643Z",
     "shell.execute_reply": "2022-09-27T09:06:29.003450Z"
    },
    "papermill": {
     "duration": 0.021276,
     "end_time": "2022-09-27T09:06:29.007080",
     "exception": false,
     "start_time": "2022-09-27T09:06:28.985804",
     "status": "completed"
    },
    "tags": []
   },
   "outputs": [],
   "source": [
    "# Train Test partition of the data\n",
    "\n",
    "x_train, x_test, y_train, y_test = train_test_split(predictors, target, test_size = 0.2, random_state=0)\n"
   ]
  },
  {
   "cell_type": "code",
   "execution_count": 15,
   "id": "0c35cded",
   "metadata": {
    "execution": {
     "iopub.execute_input": "2022-09-27T09:06:29.027752Z",
     "iopub.status.busy": "2022-09-27T09:06:29.027320Z",
     "iopub.status.idle": "2022-09-27T09:06:29.040937Z",
     "shell.execute_reply": "2022-09-27T09:06:29.039709Z"
    },
    "papermill": {
     "duration": 0.026653,
     "end_time": "2022-09-27T09:06:29.043269",
     "exception": false,
     "start_time": "2022-09-27T09:06:29.016616",
     "status": "completed"
    },
    "tags": []
   },
   "outputs": [
    {
     "data": {
      "text/plain": [
       "DecisionTreeRegressor(max_depth=3)"
      ]
     },
     "execution_count": 15,
     "metadata": {},
     "output_type": "execute_result"
    }
   ],
   "source": [
    "# Train the Regression DT\n",
    "regtree = tree.DecisionTreeRegressor(max_depth = 3)\n",
    "regtree.fit(x_train, y_train)"
   ]
  },
  {
   "cell_type": "code",
   "execution_count": 16,
   "id": "79820991",
   "metadata": {
    "execution": {
     "iopub.execute_input": "2022-09-27T09:06:29.064198Z",
     "iopub.status.busy": "2022-09-27T09:06:29.063747Z",
     "iopub.status.idle": "2022-09-27T09:06:29.072893Z",
     "shell.execute_reply": "2022-09-27T09:06:29.071880Z"
    },
    "papermill": {
     "duration": 0.022418,
     "end_time": "2022-09-27T09:06:29.075220",
     "exception": false,
     "start_time": "2022-09-27T09:06:29.052802",
     "status": "completed"
    },
    "tags": []
   },
   "outputs": [],
   "source": [
    "# Prediction\n",
    "test_pred = regtree.predict(x_test)\n",
    "train_pred = regtree.predict(x_train)"
   ]
  },
  {
   "cell_type": "code",
   "execution_count": 17,
   "id": "5f0a96a6",
   "metadata": {
    "execution": {
     "iopub.execute_input": "2022-09-27T09:06:29.097246Z",
     "iopub.status.busy": "2022-09-27T09:06:29.096802Z",
     "iopub.status.idle": "2022-09-27T09:06:29.104244Z",
     "shell.execute_reply": "2022-09-27T09:06:29.102989Z"
    },
    "papermill": {
     "duration": 0.021526,
     "end_time": "2022-09-27T09:06:29.106608",
     "exception": false,
     "start_time": "2022-09-27T09:06:29.085082",
     "status": "completed"
    },
    "tags": []
   },
   "outputs": [
    {
     "data": {
      "text/plain": [
       "array([111479.82608696,  58752.83018868,  42202.64      , 111479.82608696,\n",
       "        96580.88888889,  65754.        ,  58752.83018868,  42202.64      ,\n",
       "        65754.        ,  82303.90909091,  58752.83018868,  58752.83018868,\n",
       "        58752.83018868,  58752.83018868,  96580.88888889,  42202.64      ,\n",
       "        42202.64      ,  42202.64      ,  65754.        ,  96580.88888889,\n",
       "       111479.82608696, 111479.82608696,  65754.        , 122131.5       ,\n",
       "        38134.        , 111479.82608696,  96580.88888889,  65754.        ,\n",
       "       111479.82608696,  65754.        ,  96580.88888889,  58752.83018868,\n",
       "        58752.83018868,  58752.83018868,  42202.64      ,  96580.88888889,\n",
       "       122131.5       ,  65754.        ,  58752.83018868, 111479.82608696])"
      ]
     },
     "execution_count": 17,
     "metadata": {},
     "output_type": "execute_result"
    }
   ],
   "source": [
    "test_pred\n"
   ]
  },
  {
   "cell_type": "code",
   "execution_count": 18,
   "id": "890b961a",
   "metadata": {
    "execution": {
     "iopub.execute_input": "2022-09-27T09:06:29.128006Z",
     "iopub.status.busy": "2022-09-27T09:06:29.127564Z",
     "iopub.status.idle": "2022-09-27T09:06:29.136783Z",
     "shell.execute_reply": "2022-09-27T09:06:29.135584Z"
    },
    "papermill": {
     "duration": 0.022761,
     "end_time": "2022-09-27T09:06:29.139119",
     "exception": false,
     "start_time": "2022-09-27T09:06:29.116358",
     "status": "completed"
    },
    "tags": []
   },
   "outputs": [
    {
     "data": {
      "text/plain": [
       "array([ 96580.88888889, 111479.82608696,  58752.83018868,  58752.83018868,\n",
       "        42202.64      ,  58752.83018868,  38134.        ,  58752.83018868,\n",
       "       122131.5       ,  38134.        ,  42202.64      , 111479.82608696,\n",
       "        42202.64      ,  96580.88888889,  58752.83018868,  82303.90909091,\n",
       "        42202.64      ,  42202.64      ,  96580.88888889, 122131.5       ,\n",
       "        42202.64      , 111479.82608696,  58752.83018868,  65754.        ,\n",
       "        96580.88888889, 111479.82608696,  65754.        ,  82303.90909091,\n",
       "       111479.82608696,  58752.83018868,  42202.64      , 111479.82608696,\n",
       "        58752.83018868,  65754.        , 111479.82608696,  58752.83018868,\n",
       "        58752.83018868,  65754.        ,  58752.83018868,  58752.83018868,\n",
       "        42202.64      ,  42202.64      , 122131.5       ,  96580.88888889,\n",
       "        96580.88888889,  58752.83018868,  58752.83018868,  58752.83018868,\n",
       "        58752.83018868,  58752.83018868, 122131.5       , 111479.82608696,\n",
       "        58752.83018868,  42202.64      ,  82303.90909091,  42202.64      ,\n",
       "        58752.83018868,  96580.88888889,  38134.        ,  42202.64      ,\n",
       "       111479.82608696,  58752.83018868,  42202.64      ,  82303.90909091,\n",
       "        58752.83018868,  58752.83018868,  96580.88888889,  82303.90909091,\n",
       "       111479.82608696,  58752.83018868,  65754.        , 111479.82608696,\n",
       "        38134.        ,  58752.83018868,  96580.88888889,  65754.        ,\n",
       "        82303.90909091,  65754.        ,  96580.88888889,  58752.83018868,\n",
       "        65754.        ,  42202.64      , 111479.82608696,  58752.83018868,\n",
       "        58752.83018868,  58752.83018868,  58752.83018868,  65754.        ,\n",
       "       111479.82608696,  42202.64      ,  58752.83018868,  82303.90909091,\n",
       "        42202.64      ,  42202.64      ,  82303.90909091,  58752.83018868,\n",
       "       122131.5       ,  58752.83018868,  58752.83018868, 111479.82608696,\n",
       "        58752.83018868,  42202.64      ,  42202.64      ,  58752.83018868,\n",
       "        58752.83018868,  65754.        ,  58752.83018868,  96580.88888889,\n",
       "        82303.90909091,  58752.83018868,  58752.83018868, 111479.82608696,\n",
       "        42202.64      ,  58752.83018868,  42202.64      , 122131.5       ,\n",
       "       111479.82608696,  42202.64      ,  42202.64      ,  58752.83018868,\n",
       "        58752.83018868,  65754.        ,  42202.64      ,  96580.88888889,\n",
       "       111479.82608696, 111479.82608696, 122131.5       ,  58752.83018868,\n",
       "        96580.88888889,  96580.88888889, 111479.82608696, 122131.5       ,\n",
       "        58752.83018868,  58752.83018868,  82303.90909091, 111479.82608696,\n",
       "        65754.        ,  96580.88888889,  42202.64      , 111479.82608696,\n",
       "        58752.83018868,  58752.83018868, 122131.5       ,  96580.88888889,\n",
       "       122131.5       ,  58752.83018868, 111479.82608696,  58752.83018868,\n",
       "        96580.88888889,  58752.83018868,  58752.83018868,  58752.83018868,\n",
       "        58752.83018868, 111479.82608696,  82303.90909091,  96580.88888889])"
      ]
     },
     "execution_count": 18,
     "metadata": {},
     "output_type": "execute_result"
    }
   ],
   "source": [
    "train_pred"
   ]
  },
  {
   "cell_type": "code",
   "execution_count": 19,
   "id": "bfdee6a8",
   "metadata": {
    "execution": {
     "iopub.execute_input": "2022-09-27T09:06:29.161430Z",
     "iopub.status.busy": "2022-09-27T09:06:29.160311Z",
     "iopub.status.idle": "2022-09-27T09:06:29.173474Z",
     "shell.execute_reply": "2022-09-27T09:06:29.172387Z"
    },
    "papermill": {
     "duration": 0.026828,
     "end_time": "2022-09-27T09:06:29.176075",
     "exception": false,
     "start_time": "2022-09-27T09:06:29.149247",
     "status": "completed"
    },
    "tags": []
   },
   "outputs": [
    {
     "data": {
      "text/plain": [
       "0.9836019909461067"
      ]
     },
     "execution_count": 19,
     "metadata": {},
     "output_type": "execute_result"
    }
   ],
   "source": [
    "# Measuring accuracy\n",
    "# Error on test dataset\n",
    "mean_squared_error(y_test, test_pred)\n",
    "r2_score(y_test, test_pred)\n"
   ]
  },
  {
   "cell_type": "code",
   "execution_count": 20,
   "id": "f5d0147d",
   "metadata": {
    "execution": {
     "iopub.execute_input": "2022-09-27T09:06:29.198040Z",
     "iopub.status.busy": "2022-09-27T09:06:29.197604Z",
     "iopub.status.idle": "2022-09-27T09:06:29.209929Z",
     "shell.execute_reply": "2022-09-27T09:06:29.208832Z"
    },
    "papermill": {
     "duration": 0.026235,
     "end_time": "2022-09-27T09:06:29.212498",
     "exception": false,
     "start_time": "2022-09-27T09:06:29.186263",
     "status": "completed"
    },
    "tags": []
   },
   "outputs": [
    {
     "data": {
      "text/plain": [
       "0.9847873730685655"
      ]
     },
     "execution_count": 20,
     "metadata": {},
     "output_type": "execute_result"
    }
   ],
   "source": [
    "# Error on train dataset\n",
    "mean_squared_error(y_train, train_pred)\n",
    "r2_score(y_train, train_pred)\n"
   ]
  },
  {
   "cell_type": "code",
   "execution_count": 21,
   "id": "cbc90b45",
   "metadata": {
    "execution": {
     "iopub.execute_input": "2022-09-27T09:06:29.235636Z",
     "iopub.status.busy": "2022-09-27T09:06:29.234668Z",
     "iopub.status.idle": "2022-09-27T09:06:45.468120Z",
     "shell.execute_reply": "2022-09-27T09:06:45.466202Z"
    },
    "papermill": {
     "duration": 16.248813,
     "end_time": "2022-09-27T09:06:45.471559",
     "exception": false,
     "start_time": "2022-09-27T09:06:29.222746",
     "status": "completed"
    },
    "tags": []
   },
   "outputs": [
    {
     "name": "stdout",
     "output_type": "stream",
     "text": [
      "Collecting pydotplus\r\n",
      "  Downloading pydotplus-2.0.2.tar.gz (278 kB)\r\n",
      "\u001b[2K     \u001b[90m━━━━━━━━━━━━━━━━━━━━━━━━━━━━━━━━━━━━━\u001b[0m \u001b[32m278.7/278.7 kB\u001b[0m \u001b[31m994.2 kB/s\u001b[0m eta \u001b[36m0:00:00\u001b[0m\r\n",
      "\u001b[?25h  Preparing metadata (setup.py) ... \u001b[?25l-\b \bdone\r\n",
      "\u001b[?25hRequirement already satisfied: pyparsing>=2.0.1 in /opt/conda/lib/python3.7/site-packages (from pydotplus) (3.0.9)\r\n",
      "Building wheels for collected packages: pydotplus\r\n",
      "  Building wheel for pydotplus (setup.py) ... \u001b[?25l-\b \b\\\b \bdone\r\n",
      "\u001b[?25h  Created wheel for pydotplus: filename=pydotplus-2.0.2-py3-none-any.whl size=24575 sha256=6032b86e7eac0614215b9d46eecbe3431bd074eadbf7a024389af288c2a89c38\r\n",
      "  Stored in directory: /root/.cache/pip/wheels/1e/7b/04/7387cf6cc9e48b4a96e361b0be812f0708b394b821bf8c9c50\r\n",
      "Successfully built pydotplus\r\n",
      "Installing collected packages: pydotplus\r\n",
      "Successfully installed pydotplus-2.0.2\r\n",
      "\u001b[33mWARNING: Running pip as the 'root' user can result in broken permissions and conflicting behaviour with the system package manager. It is recommended to use a virtual environment instead: https://pip.pypa.io/warnings/venv\u001b[0m\u001b[33m\r\n",
      "\u001b[0mNote: you may need to restart the kernel to use updated packages.\n"
     ]
    }
   ],
   "source": [
    "pip install pydotplus"
   ]
  },
  {
   "cell_type": "code",
   "execution_count": 22,
   "id": "f9ba0ef3",
   "metadata": {
    "execution": {
     "iopub.execute_input": "2022-09-27T09:06:45.496769Z",
     "iopub.status.busy": "2022-09-27T09:06:45.496315Z",
     "iopub.status.idle": "2022-09-27T09:06:46.931340Z",
     "shell.execute_reply": "2022-09-27T09:06:46.929225Z"
    },
    "papermill": {
     "duration": 1.450647,
     "end_time": "2022-09-27T09:06:46.934039",
     "exception": false,
     "start_time": "2022-09-27T09:06:45.483392",
     "status": "completed"
    },
    "tags": []
   },
   "outputs": [
    {
     "data": {
      "image/png": "[encoded data removed]",
      "text/plain": [
       "<IPython.core.display.Image object>"
      ]
     },
     "execution_count": 22,
     "metadata": {},
     "output_type": "execute_result"
    }
   ],
   "source": [
    "# Plot the DT\n",
    "dot_data = tree.export_graphviz(regtree, out_file=None)\n",
    "from IPython.display import Image\n",
    "import pydotplus\n",
    "graph = pydotplus.graph_from_dot_data(dot_data)\n",
    "Image(graph.create_png())\n",
    "\n"
   ]
  },
  {
   "cell_type": "code",
   "execution_count": 23,
   "id": "c4cdb81d",
   "metadata": {
    "execution": {
     "iopub.execute_input": "2022-09-27T09:06:46.963111Z",
     "iopub.status.busy": "2022-09-27T09:06:46.962639Z",
     "iopub.status.idle": "2022-09-27T09:06:46.977425Z",
     "shell.execute_reply": "2022-09-27T09:06:46.975975Z"
    },
    "papermill": {
     "duration": 0.033434,
     "end_time": "2022-09-27T09:06:46.980897",
     "exception": false,
     "start_time": "2022-09-27T09:06:46.947463",
     "status": "completed"
    },
    "tags": []
   },
   "outputs": [
    {
     "data": {
      "text/plain": [
       "DecisionTreeRegressor(min_samples_split=3)"
      ]
     },
     "execution_count": 23,
     "metadata": {},
     "output_type": "execute_result"
    }
   ],
   "source": [
    "# Pruning the Tree\n",
    "# Minimum observations at the internal node approach\n",
    "regtree2 = tree.DecisionTreeRegressor(min_samples_split = 3)\n",
    "regtree2.fit(x_train, y_train)"
   ]
  },
  {
   "cell_type": "code",
   "execution_count": 24,
   "id": "d1f31e48",
   "metadata": {
    "execution": {
     "iopub.execute_input": "2022-09-27T09:06:47.011994Z",
     "iopub.status.busy": "2022-09-27T09:06:47.011552Z",
     "iopub.status.idle": "2022-09-27T09:06:47.022309Z",
     "shell.execute_reply": "2022-09-27T09:06:47.020871Z"
    },
    "papermill": {
     "duration": 0.028717,
     "end_time": "2022-09-27T09:06:47.025296",
     "exception": false,
     "start_time": "2022-09-27T09:06:46.996579",
     "status": "completed"
    },
    "tags": []
   },
   "outputs": [],
   "source": [
    "# Prediction\n",
    "test_pred2 = regtree2.predict(x_test)\n",
    "train_pred2 = regtree2.predict(x_train)"
   ]
  },
  {
   "cell_type": "code",
   "execution_count": 25,
   "id": "c698428d",
   "metadata": {
    "execution": {
     "iopub.execute_input": "2022-09-27T09:06:47.054477Z",
     "iopub.status.busy": "2022-09-27T09:06:47.053910Z",
     "iopub.status.idle": "2022-09-27T09:06:47.066193Z",
     "shell.execute_reply": "2022-09-27T09:06:47.064592Z"
    },
    "papermill": {
     "duration": 0.030274,
     "end_time": "2022-09-27T09:06:47.069029",
     "exception": false,
     "start_time": "2022-09-27T09:06:47.038755",
     "status": "completed"
    },
    "tags": []
   },
   "outputs": [
    {
     "data": {
      "text/plain": [
       "0.9865281921867806"
      ]
     },
     "execution_count": 25,
     "metadata": {},
     "output_type": "execute_result"
    }
   ],
   "source": [
    "# Error on test dataset\n",
    "mean_squared_error(y_test, test_pred2)\n",
    "r2_score(y_test, test_pred2)\n"
   ]
  },
  {
   "cell_type": "code",
   "execution_count": 26,
   "id": "5a7a8fa3",
   "metadata": {
    "execution": {
     "iopub.execute_input": "2022-09-27T09:06:47.098769Z",
     "iopub.status.busy": "2022-09-27T09:06:47.098330Z",
     "iopub.status.idle": "2022-09-27T09:06:47.109753Z",
     "shell.execute_reply": "2022-09-27T09:06:47.108704Z"
    },
    "papermill": {
     "duration": 0.029428,
     "end_time": "2022-09-27T09:06:47.112313",
     "exception": false,
     "start_time": "2022-09-27T09:06:47.082885",
     "status": "completed"
    },
    "tags": []
   },
   "outputs": [
    {
     "data": {
      "text/plain": [
       "0.9981285722833325"
      ]
     },
     "execution_count": 26,
     "metadata": {},
     "output_type": "execute_result"
    }
   ],
   "source": [
    "# Error on train dataset\n",
    "mean_squared_error(y_train, train_pred2)\n",
    "r2_score(y_train, train_pred2)\n"
   ]
  },
  {
   "cell_type": "code",
   "execution_count": 27,
   "id": "763cd9bf",
   "metadata": {
    "execution": {
     "iopub.execute_input": "2022-09-27T09:06:47.141712Z",
     "iopub.status.busy": "2022-09-27T09:06:47.141226Z",
     "iopub.status.idle": "2022-09-27T09:06:47.153701Z",
     "shell.execute_reply": "2022-09-27T09:06:47.152498Z"
    },
    "papermill": {
     "duration": 0.03006,
     "end_time": "2022-09-27T09:06:47.156447",
     "exception": false,
     "start_time": "2022-09-27T09:06:47.126387",
     "status": "completed"
    },
    "tags": []
   },
   "outputs": [
    {
     "data": {
      "text/plain": [
       "DecisionTreeRegressor(min_samples_leaf=3)"
      ]
     },
     "execution_count": 27,
     "metadata": {},
     "output_type": "execute_result"
    }
   ],
   "source": [
    "###########\n",
    "## Minimum observations at the leaf node approach\n",
    "regtree3 = tree.DecisionTreeRegressor(min_samples_leaf = 3)\n",
    "regtree3.fit(x_train, y_train)"
   ]
  },
  {
   "cell_type": "code",
   "execution_count": 28,
   "id": "2e2991c5",
   "metadata": {
    "execution": {
     "iopub.execute_input": "2022-09-27T09:06:47.187444Z",
     "iopub.status.busy": "2022-09-27T09:06:47.186988Z",
     "iopub.status.idle": "2022-09-27T09:06:47.198119Z",
     "shell.execute_reply": "2022-09-27T09:06:47.196525Z"
    },
    "papermill": {
     "duration": 0.030851,
     "end_time": "2022-09-27T09:06:47.201576",
     "exception": false,
     "start_time": "2022-09-27T09:06:47.170725",
     "status": "completed"
    },
    "tags": []
   },
   "outputs": [],
   "source": [
    "# Prediction\n",
    "test_pred3 = regtree3.predict(x_test)\n",
    "train_pred3 = regtree3.predict(x_train)"
   ]
  },
  {
   "cell_type": "code",
   "execution_count": 29,
   "id": "2d1d6465",
   "metadata": {
    "execution": {
     "iopub.execute_input": "2022-09-27T09:06:47.231804Z",
     "iopub.status.busy": "2022-09-27T09:06:47.231373Z",
     "iopub.status.idle": "2022-09-27T09:06:47.244933Z",
     "shell.execute_reply": "2022-09-27T09:06:47.243630Z"
    },
    "papermill": {
     "duration": 0.031728,
     "end_time": "2022-09-27T09:06:47.247682",
     "exception": false,
     "start_time": "2022-09-27T09:06:47.215954",
     "status": "completed"
    },
    "tags": []
   },
   "outputs": [
    {
     "data": {
      "text/plain": [
       "0.9914232377038641"
      ]
     },
     "execution_count": 29,
     "metadata": {},
     "output_type": "execute_result"
    }
   ],
   "source": [
    "# measure of error on test dataset\n",
    "mean_squared_error(y_test, test_pred3)\n",
    "r2_score(y_test, test_pred3)"
   ]
  },
  {
   "cell_type": "code",
   "execution_count": 30,
   "id": "8e70fadc",
   "metadata": {
    "execution": {
     "iopub.execute_input": "2022-09-27T09:06:47.278861Z",
     "iopub.status.busy": "2022-09-27T09:06:47.278431Z",
     "iopub.status.idle": "2022-09-27T09:06:47.290920Z",
     "shell.execute_reply": "2022-09-27T09:06:47.289575Z"
    },
    "papermill": {
     "duration": 0.031049,
     "end_time": "2022-09-27T09:06:47.293540",
     "exception": false,
     "start_time": "2022-09-27T09:06:47.262491",
     "status": "completed"
    },
    "tags": []
   },
   "outputs": [
    {
     "data": {
      "text/plain": [
       "0.9948941589359922"
      ]
     },
     "execution_count": 30,
     "metadata": {},
     "output_type": "execute_result"
    }
   ],
   "source": [
    "# measure of error on train dataset\n",
    "mean_squared_error(y_train, train_pred3)\n",
    "r2_score(y_train, train_pred3)"
   ]
  }
 ],
 "metadata": {
  "kernelspec": {
   "display_name": "Python 3",
   "language": "python",
   "name": "python3"
  },
  "language_info": {
   "codemirror_mode": {
    "name": "ipython",
    "version": 3
   },
   "file_extension": ".py",
   "mimetype": "text/x-python",
   "name": "python",
   "nbconvert_exporter": "python",
   "pygments_lexer": "ipython3",
   "version": "3.7.12"
  },
  "papermill": {
   "default_parameters": {},
   "duration": 31.804204,
   "end_time": "2022-09-27T09:06:48.233483",
   "environment_variables": {},
   "exception": null,
   "input_path": "__notebook__.ipynb",
   "output_path": "__notebook__.ipynb",
   "parameters": {},
   "start_time": "2022-09-27T09:06:16.429279",
   "version": "2.3.4"
  }
 },
 "nbformat": 4,
 "nbformat_minor": 5
}
